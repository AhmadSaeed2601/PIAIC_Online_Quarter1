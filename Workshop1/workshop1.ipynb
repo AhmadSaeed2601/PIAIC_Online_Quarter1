{
 "cells": [
  {
   "cell_type": "raw",
   "metadata": {},
   "source": [
    "Boolean\n",
    "==\n",
    ">\n",
    "< \n",
    ">=\n",
    "<=\n",
    "!=\n",
    "~\n"
   ]
  },
  {
   "cell_type": "code",
   "execution_count": 1,
   "metadata": {},
   "outputs": [
    {
     "data": {
      "text/plain": [
       "False"
      ]
     },
     "execution_count": 1,
     "metadata": {},
     "output_type": "execute_result"
    }
   ],
   "source": [
    "5 == 7"
   ]
  },
  {
   "cell_type": "code",
   "execution_count": 2,
   "metadata": {},
   "outputs": [
    {
     "data": {
      "text/plain": [
       "True"
      ]
     },
     "execution_count": 2,
     "metadata": {},
     "output_type": "execute_result"
    }
   ],
   "source": [
    "5 == 5"
   ]
  },
  {
   "cell_type": "code",
   "execution_count": 4,
   "metadata": {},
   "outputs": [
    {
     "data": {
      "text/plain": [
       "False"
      ]
     },
     "execution_count": 4,
     "metadata": {},
     "output_type": "execute_result"
    }
   ],
   "source": [
    "6 > 7"
   ]
  },
  {
   "cell_type": "code",
   "execution_count": 5,
   "metadata": {},
   "outputs": [
    {
     "data": {
      "text/plain": [
       "False"
      ]
     },
     "execution_count": 5,
     "metadata": {},
     "output_type": "execute_result"
    }
   ],
   "source": [
    "name = \"Qasim\"\n",
    "name == \"Asif\""
   ]
  },
  {
   "cell_type": "code",
   "execution_count": null,
   "metadata": {},
   "outputs": [],
   "source": [
    "if logic:\n",
    "    statment1\n",
    "    statment2\n",
    "else:\n",
    "    statment1\n",
    "    statment2"
   ]
  },
  {
   "cell_type": "code",
   "execution_count": 6,
   "metadata": {},
   "outputs": [
    {
     "name": "stdout",
     "output_type": "stream",
     "text": [
      "In valid User\n"
     ]
    }
   ],
   "source": [
    "name = \"Qasim\"\n",
    "\n",
    "if name == \"Nasir Husssian\":  \n",
    "    print(\"Valid User\")\n",
    "else:\n",
    "    print(\"In valid User\")"
   ]
  },
  {
   "cell_type": "code",
   "execution_count": 7,
   "metadata": {},
   "outputs": [
    {
     "name": "stdout",
     "output_type": "stream",
     "text": [
      "In valid User\n"
     ]
    }
   ],
   "source": [
    "name = \"nasir hussain\"\n",
    "\n",
    "if name == \"Nasir Husssian\":  \n",
    "    print(\"Valid User\")\n",
    "else:\n",
    "    print(\"In valid User\")"
   ]
  },
  {
   "cell_type": "code",
   "execution_count": 8,
   "metadata": {},
   "outputs": [
    {
     "name": "stdout",
     "output_type": "stream",
     "text": [
      "In valid User\n"
     ]
    }
   ],
   "source": [
    "name = \"Nasir Hussain\"\n",
    "\n",
    "if name == \"Nasir Husssian\":  \n",
    "    print(\"Valid User\")\n",
    "else:\n",
    "    print(\"In valid User\")"
   ]
  },
  {
   "cell_type": "code",
   "execution_count": 9,
   "metadata": {},
   "outputs": [
    {
     "name": "stdout",
     "output_type": "stream",
     "text": [
      "Fail\n"
     ]
    }
   ],
   "source": [
    "per = 70\n",
    "\n",
    "if per >= 80:\n",
    "    print(\"A+\")\n",
    "else:\n",
    "    print(\"Fail\")"
   ]
  },
  {
   "cell_type": "code",
   "execution_count": 10,
   "metadata": {},
   "outputs": [
    {
     "name": "stdout",
     "output_type": "stream",
     "text": [
      "A\n",
      "B\n",
      "C\n"
     ]
    }
   ],
   "source": [
    "per = 70\n",
    "\n",
    "if per >= 80:\n",
    "    print(\"A+\")\n",
    "if per>=70:\n",
    "    print(\"A\")\n",
    "if per >= 60:\n",
    "    print(\"B\")\n",
    "if per >= 50:\n",
    "    print(\"C\")\n",
    "if per < 50:\n",
    "    print(\"Fail\")"
   ]
  },
  {
   "cell_type": "code",
   "execution_count": 11,
   "metadata": {},
   "outputs": [
    {
     "name": "stdout",
     "output_type": "stream",
     "text": [
      "A\n"
     ]
    }
   ],
   "source": [
    "per = 70\n",
    "\n",
    "if per >= 80:\n",
    "    print(\"A+\")\n",
    "elif per >= 70:\n",
    "    print(\"A\")\n",
    "elif per>= 60:\n",
    "    print(\"B\")\n",
    "elif per>=50:\n",
    "    print(\"C\")\n",
    "else:\n",
    "    print(\"Fail\")"
   ]
  },
  {
   "cell_type": "code",
   "execution_count": null,
   "metadata": {},
   "outputs": [],
   "source": []
  }
 ],
 "metadata": {
  "kernelspec": {
   "display_name": "Python 3",
   "language": "python",
   "name": "python3"
  },
  "language_info": {
   "codemirror_mode": {
    "name": "ipython",
    "version": 3
   },
   "file_extension": ".py",
   "mimetype": "text/x-python",
   "name": "python",
   "nbconvert_exporter": "python",
   "pygments_lexer": "ipython3",
   "version": "3.7.5"
  }
 },
 "nbformat": 4,
 "nbformat_minor": 2
}
