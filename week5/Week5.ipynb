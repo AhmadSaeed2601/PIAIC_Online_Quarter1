{
 "cells": [
  {
   "cell_type": "raw",
   "metadata": {},
   "source": [
    "Object\n",
    "* method(action)\n",
    "* attributes\n",
    "\n",
    "\n",
    "ojb.abc() #method if () is available \n",
    "obj.abc  # if () not available (Attribute)"
   ]
  },
  {
   "cell_type": "code",
   "execution_count": 3,
   "metadata": {},
   "outputs": [
    {
     "data": {
      "text/plain": [
       "79.0"
      ]
     },
     "execution_count": 3,
     "metadata": {},
     "output_type": "execute_result"
    }
   ],
   "source": [
    "#     0     1    2    3\n",
    "l1 = [\"A\",\"7ad\",78, 79.0]\n",
    "#     -4    -3  -2   -1\n",
    "l1[-1]"
   ]
  },
  {
   "cell_type": "raw",
   "metadata": {},
   "source": [
    "[Name, fname, course, timing]\n",
    "[fname, name, course, timing]"
   ]
  },
  {
   "cell_type": "code",
   "execution_count": 4,
   "metadata": {},
   "outputs": [
    {
     "data": {
      "text/plain": [
       "{'name': 'Qasim', 'fname': 'Aslam', 'course': 'AI', 'timing': '2 to 4'}"
      ]
     },
     "execution_count": 4,
     "metadata": {},
     "output_type": "execute_result"
    }
   ],
   "source": [
    "dic1 = {\n",
    "    \"name\": 'Qasim',\n",
    "    'fname': \"Aslam\",\n",
    "    'course': \"AI\",\n",
    "    'timing': \"2 to 4\"\n",
    "}\n",
    "dic1"
   ]
  },
  {
   "cell_type": "code",
   "execution_count": 5,
   "metadata": {},
   "outputs": [
    {
     "data": {
      "text/plain": [
       "'AI'"
      ]
     },
     "execution_count": 5,
     "metadata": {},
     "output_type": "execute_result"
    }
   ],
   "source": [
    "dic1['course']"
   ]
  },
  {
   "cell_type": "code",
   "execution_count": 8,
   "metadata": {},
   "outputs": [
    {
     "name": "stdout",
     "output_type": "stream",
     "text": [
      "Enter number11\n",
      "Enter number21\n",
      "2\n"
     ]
    }
   ],
   "source": [
    "a = input(\"Enter number1\")\n",
    "a = int(a)\n",
    "\n",
    "b = input(\"Enter number2\")\n",
    "b = int(b)\n",
    "\n",
    "print(a + b)"
   ]
  },
  {
   "cell_type": "code",
   "execution_count": 9,
   "metadata": {},
   "outputs": [
    {
     "name": "stdout",
     "output_type": "stream",
     "text": [
      "<class 'int'>\n",
      "<class 'int'>\n"
     ]
    }
   ],
   "source": [
    "print(type(a))\n",
    "print(type(b))"
   ]
  },
  {
   "cell_type": "code",
   "execution_count": 37,
   "metadata": {},
   "outputs": [
    {
     "name": "stdout",
     "output_type": "stream",
     "text": [
      "Enter you CNIC12345-1234567-3\n"
     ]
    },
    {
     "data": {
      "text/plain": [
       "1234512345673"
      ]
     },
     "execution_count": 37,
     "metadata": {},
     "output_type": "execute_result"
    }
   ],
   "source": [
    "a = input(\"Enter you CNIC\")\n",
    "int(\"\".join([x for x in a if str.isnumeric(x)]))"
   ]
  },
  {
   "cell_type": "code",
   "execution_count": 13,
   "metadata": {},
   "outputs": [
    {
     "name": "stdout",
     "output_type": "stream",
     "text": [
      "Enter Field Name:timint\n"
     ]
    },
    {
     "ename": "KeyError",
     "evalue": "'timint'",
     "output_type": "error",
     "traceback": [
      "\u001b[0;31m---------------------------------------------------------------------------\u001b[0m",
      "\u001b[0;31mKeyError\u001b[0m                                  Traceback (most recent call last)",
      "\u001b[0;32m<ipython-input-13-c57e73083044>\u001b[0m in \u001b[0;36m<module>\u001b[0;34m\u001b[0m\n\u001b[1;32m      7\u001b[0m \u001b[0;34m\u001b[0m\u001b[0m\n\u001b[1;32m      8\u001b[0m \u001b[0ma\u001b[0m \u001b[0;34m=\u001b[0m \u001b[0minput\u001b[0m\u001b[0;34m(\u001b[0m\u001b[0;34m\"Enter Field Name:\"\u001b[0m\u001b[0;34m)\u001b[0m\u001b[0;34m\u001b[0m\u001b[0;34m\u001b[0m\u001b[0m\n\u001b[0;32m----> 9\u001b[0;31m \u001b[0mdic1\u001b[0m\u001b[0;34m[\u001b[0m\u001b[0ma\u001b[0m\u001b[0;34m]\u001b[0m\u001b[0;34m\u001b[0m\u001b[0;34m\u001b[0m\u001b[0m\n\u001b[0m\u001b[1;32m     10\u001b[0m \u001b[0;31m#dic1.get(a)\u001b[0m\u001b[0;34m\u001b[0m\u001b[0;34m\u001b[0m\u001b[0;34m\u001b[0m\u001b[0m\n",
      "\u001b[0;31mKeyError\u001b[0m: 'timint'"
     ]
    }
   ],
   "source": [
    "dic1 = {\n",
    "    \"name\": 'Qasim',\n",
    "    'fname': \"Aslam\",\n",
    "    'course': \"AI\",\n",
    "    'timing': \"2 to 4\"\n",
    "}\n",
    "\n",
    "a = input(\"Enter Field Name:\")\n",
    "#dic1[a]\n",
    "dic1.get(a) # dictionary method"
   ]
  },
  {
   "cell_type": "code",
   "execution_count": 18,
   "metadata": {},
   "outputs": [
    {
     "data": {
      "text/plain": [
       "1"
      ]
     },
     "execution_count": 18,
     "metadata": {},
     "output_type": "execute_result"
    }
   ],
   "source": [
    "l1 = ['A','B',\"C\",\"A\"]\n",
    "l1.count(\"B\") #list method\n"
   ]
  },
  {
   "cell_type": "code",
   "execution_count": 24,
   "metadata": {},
   "outputs": [
    {
     "ename": "TypeError",
     "evalue": "'tuple' object does not support item assignment",
     "output_type": "error",
     "traceback": [
      "\u001b[0;31m---------------------------------------------------------------------------\u001b[0m",
      "\u001b[0;31mTypeError\u001b[0m                                 Traceback (most recent call last)",
      "\u001b[0;32m<ipython-input-24-755d1e5a642b>\u001b[0m in \u001b[0;36m<module>\u001b[0;34m\u001b[0m\n\u001b[1;32m      1\u001b[0m \u001b[0ml1\u001b[0m \u001b[0;34m=\u001b[0m \u001b[0;34m(\u001b[0m\u001b[0;34m'A'\u001b[0m\u001b[0;34m,\u001b[0m\u001b[0;34m'B'\u001b[0m\u001b[0;34m,\u001b[0m\u001b[0;34m\"C\"\u001b[0m\u001b[0;34m,\u001b[0m\u001b[0;34m\"A\"\u001b[0m\u001b[0;34m)\u001b[0m\u001b[0;34m\u001b[0m\u001b[0;34m\u001b[0m\u001b[0m\n\u001b[0;32m----> 2\u001b[0;31m \u001b[0ml1\u001b[0m\u001b[0;34m[\u001b[0m\u001b[0;34m-\u001b[0m\u001b[0;36m1\u001b[0m\u001b[0;34m]\u001b[0m \u001b[0;34m=\u001b[0m \u001b[0;34m\"E\"\u001b[0m\u001b[0;34m\u001b[0m\u001b[0;34m\u001b[0m\u001b[0m\n\u001b[0m",
      "\u001b[0;31mTypeError\u001b[0m: 'tuple' object does not support item assignment"
     ]
    }
   ],
   "source": [
    "l1 = ('A','B',\"C\",\"A\")\n",
    "l1[-1] = \"E\""
   ]
  },
  {
   "cell_type": "code",
   "execution_count": null,
   "metadata": {},
   "outputs": [],
   "source": [
    "l1 = ('A','B',\"C\",\"A\")\n",
    "l1[-1] = \"F\"\n",
    "l1"
   ]
  },
  {
   "cell_type": "code",
   "execution_count": 25,
   "metadata": {},
   "outputs": [
    {
     "name": "stdout",
     "output_type": "stream",
     "text": [
      "{'name': 'Qasim', 'fname': 'Aslam', 'course': 'AI', 'timing': '2 to 4'}\n",
      "Enter you name :Mansoor\n",
      "{'name': 'Mansoor', 'fname': 'Aslam', 'course': 'AI', 'timing': '2 to 4'}\n"
     ]
    }
   ],
   "source": [
    "dic1 = {\n",
    "    \"name\": 'Qasim',\n",
    "    'fname': \"Aslam\",\n",
    "    'course': \"AI\",\n",
    "    'timing': \"2 to 4\"\n",
    "}\n",
    "print(dic1)\n",
    "a = input(\"Enter you name :\")\n",
    "dic1[\"name\"] = a\n",
    "print(dic1)"
   ]
  },
  {
   "cell_type": "code",
   "execution_count": 27,
   "metadata": {},
   "outputs": [
    {
     "name": "stdout",
     "output_type": "stream",
     "text": [
      "NewKeyName\n",
      "NewValueQasim\n",
      "{'Name': 'Qasim'}\n"
     ]
    }
   ],
   "source": [
    "dic1 = {}\n",
    "k = input(\"NewKey\")\n",
    "v = input(\"NewValue\")\n",
    "\n",
    "dic1[k] = v\n",
    "\n",
    "print(dic1)"
   ]
  },
  {
   "cell_type": "code",
   "execution_count": 28,
   "metadata": {},
   "outputs": [
    {
     "name": "stdout",
     "output_type": "stream",
     "text": [
      "Keyk1\n",
      "valuev1\n",
      "Keyk2\n",
      "valuev2\n",
      "Keyk3\n",
      "valuev3\n",
      "Keyno\n",
      "valueno\n"
     ]
    }
   ],
   "source": [
    "dic1 = {}\n",
    "\n",
    "while True:\n",
    "    k = input(\"Key\")\n",
    "    v = input(\"value\")\n",
    "    if k == 'no' or v == 'no':\n",
    "        break\n",
    "    dic1[k] = v\n",
    "    "
   ]
  },
  {
   "cell_type": "code",
   "execution_count": 29,
   "metadata": {},
   "outputs": [
    {
     "data": {
      "text/plain": [
       "{'k1': 'v1', 'k2': 'v2', 'k3': 'v3'}"
      ]
     },
     "execution_count": 29,
     "metadata": {},
     "output_type": "execute_result"
    }
   ],
   "source": [
    "dic1"
   ]
  },
  {
   "cell_type": "code",
   "execution_count": null,
   "metadata": {},
   "outputs": [],
   "source": [
    "database [[1, \"Qasim\", \"Aslam\", \"A.I\"],\n",
    "         [2, \"Mansoor\", \"Hussain\",\"CNC\"],\n",
    "         [3,\"Ali\",\"Hamza\",\"Block Chain\"]]"
   ]
  },
  {
   "cell_type": "code",
   "execution_count": 31,
   "metadata": {},
   "outputs": [
    {
     "name": "stdout",
     "output_type": "stream",
     "text": [
      "\n",
      "PIAIC Student Card\n",
      "Roll No: 1\n",
      "Name: Qasim\n",
      "Father's Name: Muhammad Aslam\n",
      "Course: A.I\n",
      "\n"
     ]
    }
   ],
   "source": [
    "card = \"\"\"\n",
    "PIAIC Student Card\n",
    "Roll No: 1\n",
    "Name: Qasim\n",
    "Father's Name: Muhammad Aslam\n",
    "Course: A.I\n",
    "\"\"\"\n",
    "print(card)"
   ]
  },
  {
   "cell_type": "code",
   "execution_count": 33,
   "metadata": {},
   "outputs": [
    {
     "name": "stdout",
     "output_type": "stream",
     "text": [
      "\n",
      "    PIAIC Student Card\n",
      "    Roll No: 1\n",
      "    Name: Qasim\n",
      "    Father's Name: Aslam\n",
      "    Course: A.I\n",
      "    \n",
      "\n",
      "\n",
      "    PIAIC Student Card\n",
      "    Roll No: 2\n",
      "    Name: Mansoor\n",
      "    Father's Name: Hussain\n",
      "    Course: CNC\n",
      "    \n",
      "\n",
      "\n",
      "    PIAIC Student Card\n",
      "    Roll No: 3\n",
      "    Name: Ali\n",
      "    Father's Name: Hamza\n",
      "    Course: Block Chain\n",
      "    \n",
      "\n"
     ]
    }
   ],
   "source": [
    "database = [[1, \"Qasim\", \"Aslam\", \"A.I\"],\n",
    "            [2, \"Mansoor\", \"Hussain\",\"CNC\"],\n",
    "            [3,\"Ali\",\"Hamza\",\"Block Chain\"]]\n",
    "\n",
    "for r in database:\n",
    "    card = \"\"\"\n",
    "    PIAIC Student Card\n",
    "    Roll No: {0}\n",
    "    Name: {1}\n",
    "    Father's Name: {2}\n",
    "    Course: {3}\n",
    "    \"\"\".format(r[0], r[1], r[2],r[3])\n",
    "    \n",
    "    print(card)\n",
    "    print()\n"
   ]
  },
  {
   "cell_type": "code",
   "execution_count": 34,
   "metadata": {},
   "outputs": [
    {
     "data": {
      "text/plain": [
       "['P',\n",
       " 'a',\n",
       " 'k',\n",
       " 'i',\n",
       " 's',\n",
       " 't',\n",
       " 'a',\n",
       " 'n',\n",
       " ' ',\n",
       " 'z',\n",
       " 'i',\n",
       " 'n',\n",
       " 'd',\n",
       " 'a',\n",
       " ' ',\n",
       " 'b',\n",
       " 'a',\n",
       " 'd']"
      ]
     },
     "execution_count": 34,
     "metadata": {},
     "output_type": "execute_result"
    }
   ],
   "source": [
    "a = \"Pakistan zinda bad\"\n",
    "list(a)"
   ]
  },
  {
   "cell_type": "code",
   "execution_count": 35,
   "metadata": {},
   "outputs": [
    {
     "data": {
      "text/plain": [
       "['Pakistan', 'zinda', 'bad']"
      ]
     },
     "execution_count": 35,
     "metadata": {},
     "output_type": "execute_result"
    }
   ],
   "source": [
    "a = \"Pakistan zinda bad\"\n",
    "a.split(\" \")"
   ]
  },
  {
   "cell_type": "code",
   "execution_count": 36,
   "metadata": {},
   "outputs": [
    {
     "data": {
      "text/plain": [
       "['Pakistan', 'zinda', 'bad']"
      ]
     },
     "execution_count": 36,
     "metadata": {},
     "output_type": "execute_result"
    }
   ],
   "source": [
    "a = \"Pakistan|zinda|bad\"\n",
    "a.split(\"|\")"
   ]
  },
  {
   "cell_type": "code",
   "execution_count": null,
   "metadata": {},
   "outputs": [],
   "source": []
  }
 ],
 "metadata": {
  "kernelspec": {
   "display_name": "Python 3",
   "language": "python",
   "name": "python3"
  },
  "language_info": {
   "codemirror_mode": {
    "name": "ipython",
    "version": 3
   },
   "file_extension": ".py",
   "mimetype": "text/x-python",
   "name": "python",
   "nbconvert_exporter": "python",
   "pygments_lexer": "ipython3",
   "version": "3.7.5"
  }
 },
 "nbformat": 4,
 "nbformat_minor": 2
}
